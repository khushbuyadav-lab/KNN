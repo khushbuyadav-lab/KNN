{
  "nbformat": 4,
  "nbformat_minor": 0,
  "metadata": {
    "colab": {
      "provenance": [],
      "authorship_tag": "ABX9TyPUweE6SaDmVPJILZpRZopz",
      "include_colab_link": true
    },
    "kernelspec": {
      "name": "python3",
      "display_name": "Python 3"
    },
    "language_info": {
      "name": "python"
    }
  },
  "cells": [
    {
      "cell_type": "markdown",
      "metadata": {
        "id": "view-in-github",
        "colab_type": "text"
      },
      "source": [
        "<a href=\"https://colab.research.google.com/github/khushbuyadav-lab/KNN/blob/main/knn_binary.ipynb\" target=\"_parent\"><img src=\"https://colab.research.google.com/assets/colab-badge.svg\" alt=\"Open In Colab\"/></a>"
      ]
    },
    {
      "cell_type": "code",
      "execution_count": 9,
      "metadata": {
        "colab": {
          "base_uri": "https://localhost:8080/"
        },
        "id": "bMJQoNyD_55F",
        "outputId": "84d68ab5-baa4-4917-c293-ed641a98d7cd"
      },
      "outputs": [
        {
          "output_type": "stream",
          "name": "stdout",
          "text": [
            "Classified as: A\n"
          ]
        }
      ],
      "source": [
        "from collections import Counter\n",
        "\n",
        "data = [\n",
        "    ([1, 2, 3], 'A'),\n",
        "    ([2, 3, 4], 'A'),\n",
        "    ([5, 5, 5], 'B'),\n",
        "    ([6, 7, 8], 'B')\n",
        "]\n",
        "\n",
        "def distance(p1, p2):\n",
        "    total = 0\n",
        "    for i in range(len(p1)):\n",
        "        total += (p1[i] - p2[i]) ** 2\n",
        "    return total ** 0.5\n",
        "\n",
        "def knn(test_point, data, k=3):\n",
        "    distances = []\n",
        "    for features, label in data:\n",
        "        dist = distance(test_point, features)\n",
        "        distances.append((dist, label))\n",
        "    distances.sort(key=lambda x: x[0])\n",
        "    neighbors = distances[:k]\n",
        "\n",
        "    labels = [label for _, label in neighbors]\n",
        "    most_common = Counter(labels).most_common(1)[0][0]\n",
        "    return most_common\n",
        "\n",
        "test = [3, 3, 3]\n",
        "print(\"Classified as:\", knn(test, data))"
      ]
    }
  ]
}